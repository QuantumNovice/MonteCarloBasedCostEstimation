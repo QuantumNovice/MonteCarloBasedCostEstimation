{
 "cells": [
  {
   "cell_type": "markdown",
   "metadata": {},
   "source": [
    "# Building Cost Estimation Using Monte Carlo Method\n",
    "###                      Building Cost Risk Analysis\n",
    "Author: Syed Haseeb Shah <br/>\n",
    "Email: 18pwciv4991@uetpeshawar.edu.pk"
   ]
  },
  {
   "cell_type": "code",
   "execution_count": 147,
   "metadata": {},
   "outputs": [],
   "source": [
    "import pandas as pd\n",
    "import xlrd\n",
    "import numpy as np\n",
    "import matplotlib.pyplot as plt\n",
    "import matplotlib as mpl\n"
   ]
  },
  {
   "cell_type": "markdown",
   "metadata": {},
   "source": [
    "Changing this value will change the resolution (dots per inch of plots generated)"
   ]
  },
  {
   "cell_type": "code",
   "execution_count": 148,
   "metadata": {},
   "outputs": [],
   "source": [
    "mpl.rcParams['figure.dpi']= 90"
   ]
  },
  {
   "cell_type": "markdown",
   "metadata": {},
   "source": [
    "This chanages the unit of cost (i.e from Rs to Thousand Rupees)"
   ]
  },
  {
   "cell_type": "code",
   "execution_count": 149,
   "metadata": {},
   "outputs": [],
   "source": [
    "divisor = 1000"
   ]
  },
  {
   "cell_type": "code",
   "execution_count": 150,
   "metadata": {},
   "outputs": [],
   "source": [
    "def sanitize(data):\n",
    "    '''\n",
    "    Makes sure the data list is a float.\n",
    "    '''\n",
    "    refined = []\n",
    "    for i in data:\n",
    "        if type(i) == float:\n",
    "            refined.append(i)\n",
    "    return np.array(refined)\n",
    "\n",
    "def process(data):\n",
    "    '''\n",
    "    Simulate the construction\n",
    "    '''\n",
    "    V = []\n",
    "    for min_cost, max_cost in data:\n",
    "        #print(min_cost, max_cost)\n",
    "        value = np.random.randint(min_cost, max_cost)\n",
    "        V.append(value)\n",
    "    return sum(V)\n"
   ]
  },
  {
   "cell_type": "code",
   "execution_count": 151,
   "metadata": {},
   "outputs": [],
   "source": [
    "wb = xlrd.open_workbook('cost.xlsx')\n",
    "sheet1 = wb.sheet_by_index(0)\n",
    "\n",
    "items = sheet1.col_values(0)\n",
    "min_cost = sheet1.col_values(1)\n",
    "max_cost = sheet1.col_values(2)\n",
    "\n",
    "min_costs =  sanitize(\n",
    "    min_cost\n",
    "    )/divisor\n",
    "max_costs = sanitize(\n",
    "    max_cost\n",
    "    )/divisor\n",
    "raw_data = np.array([items, min_cost, max_cost])\n",
    "\n",
    "# Transpose prints data correctly\n",
    "d = pd.DataFrame(raw_data.T)\n",
    "\n",
    "# Prints in a proper table format\n",
    "# Uncomment the line below to print the excel data\n",
    "# display(d)"
   ]
  },
  {
   "cell_type": "markdown",
   "metadata": {},
   "source": [
    "It is the number of simulations executed per event. The bigger the better.<br/>\n",
    "Keep it at the very least 1000"
   ]
  },
  {
   "cell_type": "code",
   "execution_count": 153,
   "metadata": {},
   "outputs": [],
   "source": [
    "simulations = 10000;"
   ]
  },
  {
   "cell_type": "code",
   "execution_count": 154,
   "metadata": {},
   "outputs": [
    {
     "data": {
      "image/png": "[encoded data removed]",
      "text/plain": [
       "<Figure size 540x360 with 1 Axes>"
      ]
     },
     "metadata": {},
     "output_type": "display_data"
    }
   ],
   "source": [
    "data = list(zip(min_costs, max_costs));\n",
    "event = [];\n",
    "\n",
    "for i in range(simulations):\n",
    "    event.append(process(data));\n",
    "    \n",
    "plt.title(\n",
    "    'min:{} avg:{} max:{} after {} simulations'.format(min(event),\n",
    "                                                       int(sum(event)/len(event)),\n",
    "                                                       max(event), simulations)\n",
    "          );\n",
    "plt.xlabel('Cost');\n",
    "plt.ylabel('Probability Density');\n",
    "plt.grid(color='black');\n",
    "plt.hist(event, bins=50, color='blue');"
   ]
  },
  {
   "cell_type": "code",
   "execution_count": null,
   "metadata": {},
   "outputs": [],
   "source": []
  }
 ],
 "metadata": {
  "kernelspec": {
   "display_name": "Python 3",
   "language": "python",
   "name": "python3"
  },
  "language_info": {
   "codemirror_mode": {
    "name": "ipython",
    "version": 3
   },
   "file_extension": ".py",
   "mimetype": "text/x-python",
   "name": "python",
   "nbconvert_exporter": "python",
   "pygments_lexer": "ipython3",
   "version": "3.6.5"
  }
 },
 "nbformat": 4,
 "nbformat_minor": 2
}
